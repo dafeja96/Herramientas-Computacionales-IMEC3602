{
 "cells": [
  {
   "cell_type": "code",
   "execution_count": 1,
   "metadata": {},
   "outputs": [],
   "source": [
    "import os\n",
    "import pandas as pd\n",
    "import scipy as sp\n",
    "from scipy import stats"
   ]
  },
  {
   "cell_type": "code",
   "execution_count": 2,
   "metadata": {},
   "outputs": [
    {
     "name": "stdout",
     "output_type": "stream",
     "text": [
      "Populating the interactive namespace from numpy and matplotlib\n"
     ]
    }
   ],
   "source": [
    "%pylab inline"
   ]
  },
  {
   "cell_type": "code",
   "execution_count": 3,
   "metadata": {},
   "outputs": [],
   "source": [
    "def ajuste_mcp(serie_real,serie_std,mes,agno,mesAcumulado):\n",
    "    if mesAcumulado == True:\n",
    "        m1=serie_real[\"IDEAM\"].loc[(serie_real[\"MES\"]<=mes)&(serie_real[\"AÑO\"]==agno)].mean()\n",
    "        m2=serie_std[\"NREL\"].loc[(serie_std[\"MES\"]<=mes)&(serie_std[\"AÑO\"]==agno)].mean()\n",
    "        d1=serie_real[\"IDEAM\"].loc[(serie_real[\"MES\"]<=mes)&(serie_real[\"AÑO\"]==agno)].std(ddof=0)\n",
    "        d2=serie_std[\"NREL\"].loc[(serie_std[\"MES\"]<=mes)&(serie_std[\"AÑO\"]==agno)].std(ddof=0)\n",
    "        GHImcp= pd.DataFrame(((m1-(d1/d2)*m2)+(d1/d2)*serie_std[\"NREL\"]))\n",
    "        GHImcp[GHImcp<0]=0\n",
    "        serie_ajustada=serie_std.copy()\n",
    "        del serie_ajustada['NREL']\n",
    "        serie_ajustada['GHI']=GHImcp\n",
    "    else:\n",
    "        m1=serie_real[\"IDEAM\"].loc[(serie_real[\"MES\"]==mes)&(serie_real[\"AÑO\"]==agno)].mean()\n",
    "        m2=serie_std[\"NREL\"].loc[(serie_std[\"MES\"]==mes)&(serie_std[\"AÑO\"]==agno)].mean()\n",
    "        d1=serie_real[\"IDEAM\"].loc[(serie_real[\"MES\"]==mes)&(serie_real[\"AÑO\"]==agno)].std(ddof=0)\n",
    "        d2=serie_std[\"NREL\"].loc[(serie_std[\"MES\"]==mes)&(serie_std[\"AÑO\"]==agno)].std(ddof=0)\n",
    "        GHImcp= pd.DataFrame(((m1-(d1/d2)*m2)+(d1/d2)*serie_std[\"NREL\"]))\n",
    "        GHImcp[GHImcp<0]=0\n",
    "        serie_ajustada=serie_std.copy()\n",
    "        del serie_ajustada['NREL']\n",
    "        serie_ajustada['GHI']=GHImcp\n",
    "    return (serie_ajustada)"
   ]
  },
  {
   "cell_type": "code",
   "execution_count": 4,
   "metadata": {},
   "outputs": [],
   "source": [
    "def ENFICC(serie,serie_real):\n",
    "    \n",
    "    def ghi_mensual(serie_horaria):\n",
    "        agnos = sorted(serie_real['AÑO'].unique())\n",
    "        ghi_df = pd.DataFrame(columns=[\"AÑO\", \"MES\", \"DIAS\", \"GHImes\"])\n",
    "        for agno in agnos:\n",
    "            for mes in range(1,13):\n",
    "                nombre_energia = list(serie_horaria)[-1]\n",
    "                dias = sorted(serie_horaria[(serie_horaria['AÑO'] == agno) &\n",
    "                            (serie_horaria['MES'] == mes)][\"DIA\"].unique())\n",
    "                ghi_mes = serie_horaria.loc[((serie_horaria[\"AÑO\"] == agno)\n",
    "                                & (serie_horaria[\"MES\"] == mes)),\n",
    "                                            nombre_energia].sum()/1000\n",
    "                ghi_dict = {\"AÑO\":agno, \"MES\":mes, \"DIAS\":dias[-1],\n",
    "                            \"GHImes\":ghi_mes}\n",
    "                ghi_df = ghi_df.append(ghi_dict, ignore_index=True)\n",
    "        return ghi_df\n",
    "    \n",
    "    def ghi_dia(serie_ghi_mensual):\n",
    "        agnos = sorted(serie_ghi_mensual['AÑO'].unique())\n",
    "        ghi_df = pd.DataFrame(columns=[\"AÑO\", \"MES\", \"GHIdiario\"])\n",
    "        for agno in agnos:\n",
    "            for mes in range(1,13):\n",
    "                dias = serie_ghi_mensual.loc[((serie_ghi_mensual[\"AÑO\"] == agno)\n",
    "                                & (serie_ghi_mensual[\"MES\"] == mes))\n",
    "                                             ,\"DIAS\"].item()\n",
    "                ghi_diario = serie_ghi_mensual.loc[(\n",
    "                    (serie_ghi_mensual[\"AÑO\"] == agno)\n",
    "                                & (serie_ghi_mensual[\"MES\"] == mes)),\n",
    "                    \"GHImes\"].item()/dias\n",
    "                ghi_dict = {\"AÑO\":agno, \"MES\":mes, \"GHIdiario\":ghi_diario}\n",
    "                ghi_df = ghi_df.append(ghi_dict, ignore_index=True)\n",
    "        return ghi_df\n",
    "\n",
    "    ghi_mensual_loc = ghi_mensual(serie)\n",
    "    ghi_dia_loc=ghi_dia(ghi_mensual_loc)\n",
    "    datos = sorted(ghi_dia_loc[\"GHIdiario\"])\n",
    "    numdatos = range(len(datos))\n",
    "    percentil = 0.01\n",
    "    enficc = ghi_dia_loc.quantile(q=percentil, \n",
    "                                 numeric_only=True)[\"GHIdiario\"]\n",
    "    print('La ENFICC 99% es: ',enficc)\n",
    "    return enficc,datos,numdatos"
   ]
  },
  {
   "cell_type": "code",
   "execution_count": 5,
   "metadata": {},
   "outputs": [],
   "source": [
    "def grafica(enficc_real,enficc_satel,enficc_mcp):\n",
    "    pylab.xlabel(\"Datos\")\n",
    "    pylab.ylabel(\"Energía/Energia Base Ideam\")\n",
    "    pylab.plot(enficc_real[2],enficc_real[1]/(enficc_real[1])[0],label='IDEAM')\n",
    "    pylab.plot(enficc_satel[2],enficc_satel[1]/(enficc_real[1])[0],label='NREL')\n",
    "    pylab.plot(enficc_mcp[2],enficc_mcp[1]/(enficc_real[1])[0],label='NREL AJUSTADA')\n",
    "    pylab.legend(loc='upper left')\n",
    "    return "
   ]
  },
  {
   "cell_type": "code",
   "execution_count": 6,
   "metadata": {},
   "outputs": [],
   "source": [
    "def errores(real,ajustada):\n",
    "    dfmcp=pd.DataFrame(ajustada,columns=['datos'])\n",
    "    dfreal=pd.DataFrame(real,columns=['datos'])\n",
    "    rmsen=(np.sqrt(((dfreal - dfmcp) ** 2).mean()))/(dfreal.iloc[-1]-dfreal.iloc[0])\n",
    "    mbe=(dfmcp-dfreal).sum()/dfmcp.sum()\n",
    "    KSI=sp.stats.ks_2samp(real,ajustada)\n",
    "    print('El RMSEn es: ',rmsen)\n",
    "    print('El MBE es: ',mbe)\n",
    "    print('El p de KSI es: ',KSI[1])\n",
    "    return"
   ]
  },
  {
   "cell_type": "code",
   "execution_count": 7,
   "metadata": {},
   "outputs": [],
   "source": [
    "base_dir = os.path.join( '.','data')\n",
    "output_dir = os.path.join( '.','output')\n",
    "ciudad = 'Medellin'\n",
    "fuente1 = 'IDEAM'\n",
    "fuente2= 'NREL'\n",
    "serie_csv1 = os.path.join(base_dir,ciudad,fuente1+'.csv')\n",
    "serie_csv2 = os.path.join(base_dir,ciudad,fuente2+'.csv')\n",
    "serie_real = pd.read_csv(serie_csv1, sep = ';',\n",
    "                encoding='latin-1')\n",
    "serie_satel = pd.read_csv(serie_csv2, sep = ';',\n",
    "                encoding='latin-1')"
   ]
  },
  {
   "cell_type": "code",
   "execution_count": 8,
   "metadata": {},
   "outputs": [],
   "source": [
    "ajuste= ajuste_mcp(serie_real,serie_satel,12,2006,True)"
   ]
  },
  {
   "cell_type": "code",
   "execution_count": 9,
   "metadata": {},
   "outputs": [
    {
     "name": "stdout",
     "output_type": "stream",
     "text": [
      "La ENFICC 99% es:  3.53519358791\n",
      "La ENFICC 99% es:  4.31134824731\n",
      "La ENFICC 99% es:  3.61521248042\n"
     ]
    }
   ],
   "source": [
    "enficc_real=ENFICC(serie_real,serie_real)\n",
    "enficc_satel=ENFICC(serie_satel,serie_real)\n",
    "enficc_mcp=ENFICC(ajuste,serie_real)"
   ]
  },
  {
   "cell_type": "code",
   "execution_count": 10,
   "metadata": {},
   "outputs": [
    {
     "data": {
      "image/png": "[encoded data removed]",
      "text/plain": [
       "<matplotlib.figure.Figure at 0x7ff3a30aa0b8>"
      ]
     },
     "metadata": {},
     "output_type": "display_data"
    }
   ],
   "source": [
    "grafica(enficc_real,enficc_satel,enficc_mcp)"
   ]
  },
  {
   "cell_type": "code",
   "execution_count": 11,
   "metadata": {},
   "outputs": [
    {
     "name": "stdout",
     "output_type": "stream",
     "text": [
      "El RMSEn es:  datos    0.05366\n",
      "dtype: float64\n",
      "El MBE es:  datos    0.009257\n",
      "dtype: float64\n",
      "El p de KSI es:  0.459738479705\n"
     ]
    }
   ],
   "source": [
    "errores(enficc_real[1],enficc_mcp[1])"
   ]
  },
  {
   "cell_type": "code",
   "execution_count": 12,
   "metadata": {},
   "outputs": [
    {
     "name": "stdout",
     "output_type": "stream",
     "text": [
      "El RMSEn es:  datos    0.336505\n",
      "dtype: float64\n",
      "El MBE es:  datos    0.164793\n",
      "dtype: float64\n",
      "El p de KSI es:  3.14421710724e-26\n"
     ]
    }
   ],
   "source": [
    "errores(enficc_real[1],enficc_satel[1])"
   ]
  },
  {
   "cell_type": "code",
   "execution_count": 13,
   "metadata": {},
   "outputs": [
    {
     "ename": "IndentationError",
     "evalue": "unexpected indent (<ipython-input-13-e019ac9c6bfb>, line 2)",
     "output_type": "error",
     "traceback": [
      "\u001b[0;36m  File \u001b[0;32m\"<ipython-input-13-e019ac9c6bfb>\"\u001b[0;36m, line \u001b[0;32m2\u001b[0m\n\u001b[0;31m    dfmcp=rec[\"GHI\"]\u001b[0m\n\u001b[0m    ^\u001b[0m\n\u001b[0;31mIndentationError\u001b[0m\u001b[0;31m:\u001b[0m unexpected indent\n"
     ]
    }
   ],
   "source": [
    " rec=ajustada[(ajustada['AÑO']>=real.iloc[0,0])&(ajustada['AÑO']<=real.iloc[-1,0])]\n",
    "    dfmcp=rec[\"GHI\"]\n",
    "    dfreal=real[\"IDEAM\"]\n",
    "    dfreal=pd.DataFrame"
   ]
  }
 ],
 "metadata": {
  "kernelspec": {
   "display_name": "Python 3.6",
   "language": "python",
   "name": "python36"
  },
  "language_info": {
   "codemirror_mode": {
    "name": "ipython",
    "version": 3
   },
   "file_extension": ".py",
   "mimetype": "text/x-python",
   "name": "python",
   "nbconvert_exporter": "python",
   "pygments_lexer": "ipython3",
   "version": "3.6.3"
  }
 },
 "nbformat": 4,
 "nbformat_minor": 2
}
