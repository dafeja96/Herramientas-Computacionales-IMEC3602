{
 "cells": [
  {
   "cell_type": "code",
   "execution_count": 1,
   "metadata": {},
   "outputs": [],
   "source": [
    "import os\n",
    "import pandas as pd"
   ]
  },
  {
   "cell_type": "code",
   "execution_count": 2,
   "metadata": {},
   "outputs": [
    {
     "name": "stdout",
     "output_type": "stream",
     "text": [
      "Populating the interactive namespace from numpy and matplotlib\n"
     ]
    }
   ],
   "source": [
    "%pylab inline"
   ]
  },
  {
   "cell_type": "code",
   "execution_count": 3,
   "metadata": {},
   "outputs": [],
   "source": [
    "base_dir = os.path.join( '.','data')\n",
    "output_dir = os.path.join( '.','output')\n",
    "ciudad = 'Valledupar'\n",
    "fuente1 = 'IDEAM'\n",
    "fuente2= 'NREL'\n",
    "serie_csv1 = os.path.join(base_dir,ciudad,fuente1+'.csv')\n",
    "serie_csv2 = os.path.join(base_dir,ciudad,fuente2+'.csv')\n",
    "serie_real = pd.read_csv(serie_csv1, sep = ';',\n",
    "                encoding='latin-1')\n",
    "serie_satel = pd.read_csv(serie_csv2, sep = ';',\n",
    "                encoding='latin-1')\n",
    "serie_rec=serie_real.loc[(serie_real[\"MES\"]==1)&(serie_real[\"AÑO\"]==2006)]"
   ]
  },
  {
   "cell_type": "code",
   "execution_count": 4,
   "metadata": {},
   "outputs": [],
   "source": [
    "def ajuste_mcp(serie_real,serie_std):\n",
    "     \n",
    "    m1=serie_real[\"IDEAM\"].mean()\n",
    "    m2=serie_std[\"NREL\"].mean()\n",
    "    d1=serie_real[\"IDEAM\"].std(ddof=0)\n",
    "    d2=serie_std[\"NREL\"].std(ddof=0)\n",
    "    GHImcp= pd.DataFrame(((m1-(d1/d2)*m2)+(d1/d2)*serie_std[\"NREL\"]))\n",
    "    GHImcp[GHImcp<0]=0\n",
    "    serie_ajustada=serie_std.copy()\n",
    "    del serie_ajustada['NREL']\n",
    "    serie_ajustada['GHIdiario']=GHImcp\n",
    "    return (serie_ajustada)"
   ]
  },
  {
   "cell_type": "code",
   "execution_count": 5,
   "metadata": {},
   "outputs": [],
   "source": [
    "def ENFICC(serie):\n",
    "    \n",
    "    def ghi_mensual(serie_horaria):\n",
    "        agnos = sorted(serie_horaria['AÑO'].unique())\n",
    "        ghi_df = pd.DataFrame(columns=[\"AÑO\", \"MES\", \"DIAS\", \"GHImes\"])\n",
    "        for agno in agnos:\n",
    "            for mes in range(1,13):\n",
    "                nombre_energia = list(serie_horaria)[-1]\n",
    "                dias = sorted(serie_horaria[(serie_horaria['AÑO'] == agno) &\n",
    "                            (serie_horaria['MES'] == mes)][\"DIA\"].unique())\n",
    "                ghi_mes = serie_horaria.loc[((serie_horaria[\"AÑO\"] == agno)\n",
    "                                & (serie_horaria[\"MES\"] == mes)),\n",
    "                                            nombre_energia].sum()/1000\n",
    "                ghi_dict = {\"AÑO\":agno, \"MES\":mes, \"DIAS\":dias[-1],\n",
    "                            \"GHImes\":ghi_mes}\n",
    "                ghi_df = ghi_df.append(ghi_dict, ignore_index=True)\n",
    "        return ghi_df\n",
    "    \n",
    "    def ghi_dia(serie_ghi_mensual):\n",
    "        agnos = sorted(serie_ghi_mensual['AÑO'].unique())\n",
    "        ghi_df = pd.DataFrame(columns=[\"AÑO\", \"MES\", \"GHIdiario\"])\n",
    "        for agno in agnos:\n",
    "            for mes in range(1,13):\n",
    "                dias = serie_ghi_mensual.loc[((serie_ghi_mensual[\"AÑO\"] == agno)\n",
    "                                & (serie_ghi_mensual[\"MES\"] == mes))\n",
    "                                             ,\"DIAS\"].item()\n",
    "                ghi_diario = serie_ghi_mensual.loc[(\n",
    "                    (serie_ghi_mensual[\"AÑO\"] == agno)\n",
    "                                & (serie_ghi_mensual[\"MES\"] == mes)),\n",
    "                    \"GHImes\"].item()/dias\n",
    "                ghi_dict = {\"AÑO\":agno, \"MES\":mes, \"GHIdiario\":ghi_diario}\n",
    "                ghi_df = ghi_df.append(ghi_dict, ignore_index=True)\n",
    "        return ghi_df\n",
    "\n",
    "    ghi_mensual_loc = ghi_mensual(serie)\n",
    "    ghi_dia_loc=ghi_dia(ghi_mensual_loc)\n",
    "    datos = sorted(ghi_dia_loc[\"GHIdiario\"])\n",
    "    numdatos = range(len(datos))\n",
    "    percentil = 0.01\n",
    "    enficc = ghi_dia_loc.quantile(q=percentil, \n",
    "                                 numeric_only=True)[\"GHIdiario\"]\n",
    "    return enficc,datos,numdatos"
   ]
  },
  {
   "cell_type": "code",
   "execution_count": 6,
   "metadata": {},
   "outputs": [],
   "source": [
    "ajuste= ajuste_mcp(serie_rec,serie_satel)"
   ]
  },
  {
   "cell_type": "code",
   "execution_count": 7,
   "metadata": {},
   "outputs": [],
   "source": [
    "enficc_real=ENFICC(serie_real)\n",
    "enficc_satel=ENFICC(serie_satel)\n",
    "enficc_mcp=ENFICC(ajuste)"
   ]
  },
  {
   "cell_type": "code",
   "execution_count": 8,
   "metadata": {},
   "outputs": [
    {
     "name": "stdout",
     "output_type": "stream",
     "text": [
      "La ENFICC DATOS REALES 99% es:  4.56900737661\n",
      "La ENFICC DATOS SATELITALES 99% es:  5.06265316667\n",
      "La ENFICC DATOS AJUSTADOS 99% es:  4.59955182894\n"
     ]
    }
   ],
   "source": [
    "print('La ENFICC DATOS REALES 99% es: ', enficc_real[0])\n",
    "print('La ENFICC DATOS SATELITALES 99% es: ', enficc_satel[0])\n",
    "print('La ENFICC DATOS AJUSTADOS 99% es: ', enficc_mcp[0])"
   ]
  },
  {
   "cell_type": "code",
   "execution_count": 10,
   "metadata": {},
   "outputs": [
    {
     "data": {
      "text/plain": [
       "<matplotlib.legend.Legend at 0x7fb3a83e3f28>"
      ]
     },
     "execution_count": 10,
     "metadata": {},
     "output_type": "execute_result"
    },
    {
     "data": {
      "image/png": "[encoded data removed]",
      "text/plain": [
       "<matplotlib.figure.Figure at 0x7fb3a8696390>"
      ]
     },
     "metadata": {},
     "output_type": "display_data"
    }
   ],
   "source": [
    "pylab.xlabel(\"Datos\")\n",
    "pylab.ylabel(\"Energía\")\n",
    "pylab.plot(enficc_real[2],enficc_real[1],enficc_satel[2],enficc_satel[1],enficc_mcp[2],enficc_mcp[1],\n",
    "           '-k', label=['IDEAM','SATEL','AJUSTADA'])\n",
    "pylab.legend(loc='upper left')"
   ]
  }
 ],
 "metadata": {
  "kernelspec": {
   "display_name": "Python 3.6",
   "language": "python",
   "name": "python36"
  },
  "language_info": {
   "codemirror_mode": {
    "name": "ipython",
    "version": 3
   },
   "file_extension": ".py",
   "mimetype": "text/x-python",
   "name": "python",
   "nbconvert_exporter": "python",
   "pygments_lexer": "ipython3",
   "version": "3.6.3"
  }
 },
 "nbformat": 4,
 "nbformat_minor": 2
}
