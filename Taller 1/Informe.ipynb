{
 "cells": [
  {
   "cell_type": "markdown",
   "metadata": {
    "collapsed": true
   },
   "source": [
    "# Informe Taller #1 \n",
    "## Análisis de la metodología para la verificación y construcción de series históricas para el cálculo de la ENFICC en plantas solares fotovoltaicas\n",
    "### Daniel Felipe Jaramillo Arenas, 201414139\n"
   ]
  },
  {
   "cell_type": "markdown",
   "metadata": {},
   "source": [
    "A continuación se expone en una primera parte las funciones generadas para realizar los cálculos de la ENFICC y la generación de información (gráficas y errores) que permite evaluar la metodología en diferentes localidades y utilizando mediciones en tierra de diferentes épocas. En la segunda parte del informe se utilizan las funciones para realizar un análisis bajo unos casos específicos de localidades y tiempos."
   ]
  },
  {
   "cell_type": "markdown",
   "metadata": {},
   "source": [
    "### Parte 1: Funciones"
   ]
  },
  {
   "cell_type": "code",
   "execution_count": 1,
   "metadata": {},
   "outputs": [
    {
     "name": "stdout",
     "output_type": "stream",
     "text": [
      "Populating the interactive namespace from numpy and matplotlib\n"
     ]
    }
   ],
   "source": [
    "import os\n",
    "import pandas as pd\n",
    "import scipy as sp\n",
    "from scipy import stats\n",
    "%pylab inline"
   ]
  },
  {
   "cell_type": "markdown",
   "metadata": {},
   "source": [
    "La primera función que se encuentra a continuación y que lleva el nombre de ajuste_mcp se encarga a partir de una serie de datos reales y una serie satelital, además del rango de meses y el rango de años de la serie real, a la que se quiere ajustar la satelital, devuelve una serie de datos con los datos satelitales ajustados. La función si se quiere realizar el ajuste en terminos de meses el año se pone como unico y se ponen los meses que se quieran, si se quiere ajustar en rangos de años los meses se ponen de 1 a 12 y el rango de años que se quiera."
   ]
  },
  {
   "cell_type": "code",
   "execution_count": 2,
   "metadata": {},
   "outputs": [],
   "source": [
    "def ajuste_mcp(serie_real,serie_std,mes,agno):\n",
    "    m1=serie_real[\"IDEAM\"].loc[(serie_real[\"MES\"]<=mes[1])&(serie_real[\"AÑO\"]<=agno[1])&(serie_real[\"MES\"]>=mes[0])\n",
    "                                   &(serie_real[\"AÑO\"]>=agno[0])].mean()\n",
    "    m2=serie_std[\"NREL\"].loc[(serie_std[\"MES\"]<=mes[1])&(serie_std[\"AÑO\"]<=agno[1])&(serie_std[\"MES\"]>=mes[0])\n",
    "                                   &(serie_std[\"AÑO\"]>=agno[0])].mean()\n",
    "    d1=serie_real[\"IDEAM\"].loc[(serie_real[\"MES\"]<=mes[1])&(serie_real[\"AÑO\"]<=agno[1])&(serie_real[\"MES\"]>=mes[0])\n",
    "                                   &(serie_real[\"AÑO\"]>=agno[0])].std(ddof=0)\n",
    "    d2=serie_std[\"NREL\"].loc[(serie_std[\"MES\"]<=mes[1])&(serie_std[\"AÑO\"]<=agno[1])&(serie_std[\"MES\"]>=mes[0])\n",
    "                                   &(serie_std[\"AÑO\"]>=agno[0])].std(ddof=0)\n",
    "    GHImcp= pd.DataFrame(((m1-(d1/d2)*m2)+(d1/d2)*serie_std[\"NREL\"]))\n",
    "    GHImcp[GHImcp<0]=0\n",
    "    serie_ajustada=serie_std.copy()\n",
    "    del serie_ajustada['NREL']\n",
    "    serie_ajustada['GHI']=GHImcp\n",
    "    return (serie_ajustada)"
   ]
  },
  {
   "cell_type": "markdown",
   "metadata": {},
   "source": [
    "La segunda función es la función ENFICC a esta le ingresan la serie a la cual se le quiere calcular la ENFICC y además los datos reales de la misma localización, estos segundos datos solo se ingresan para asegurar que la ENFICC se calcule sobre el rango de años sobre los cuales se tenga información real y que al final los datos se puedan comparar. Esta función retorna un grupo de datos en el que están:\n",
    "    0. El valor de la enficc. [0]\n",
    "    1. Serie de datos organizados de energía promedio por mes. [1]\n",
    "    2. El número de datos de la serie de energía promedio por mes. [2]"
   ]
  },
  {
   "cell_type": "code",
   "execution_count": 3,
   "metadata": {},
   "outputs": [],
   "source": [
    "def ENFICC(serie,serie_real):\n",
    "    \n",
    "    def ghi_mensual(serie_horaria):\n",
    "        agnos = sorted(serie_real['AÑO'].unique())\n",
    "        ghi_df = pd.DataFrame(columns=[\"AÑO\", \"MES\", \"DIAS\", \"GHImes\"])\n",
    "        for agno in agnos:\n",
    "            for mes in range(1,13):\n",
    "                nombre_energia = list(serie_horaria)[-1]\n",
    "                dias = sorted(serie_horaria[(serie_horaria['AÑO'] == agno) &\n",
    "                            (serie_horaria['MES'] == mes)][\"DIA\"].unique())\n",
    "                ghi_mes = serie_horaria.loc[((serie_horaria[\"AÑO\"] == agno)\n",
    "                                & (serie_horaria[\"MES\"] == mes)),\n",
    "                                            nombre_energia].sum()/1000\n",
    "                ghi_dict = {\"AÑO\":agno, \"MES\":mes, \"DIAS\":dias[-1],\n",
    "                            \"GHImes\":ghi_mes}\n",
    "                ghi_df = ghi_df.append(ghi_dict, ignore_index=True)\n",
    "        print(agnos)\n",
    "        return ghi_df\n",
    "    \n",
    "    def ghi_dia(serie_ghi_mensual):\n",
    "        agnos = sorted(serie_ghi_mensual['AÑO'].unique())\n",
    "        ghi_df = pd.DataFrame(columns=[\"AÑO\", \"MES\", \"GHIdiario\"])\n",
    "        for agno in agnos:\n",
    "            for mes in range(1,13):\n",
    "                dias = serie_ghi_mensual.loc[((serie_ghi_mensual[\"AÑO\"] == agno)\n",
    "                                & (serie_ghi_mensual[\"MES\"] == mes))\n",
    "                                             ,\"DIAS\"].item()\n",
    "                ghi_diario = serie_ghi_mensual.loc[(\n",
    "                    (serie_ghi_mensual[\"AÑO\"] == agno)\n",
    "                                & (serie_ghi_mensual[\"MES\"] == mes)),\n",
    "                    \"GHImes\"].item()/dias\n",
    "                ghi_dict = {\"AÑO\":agno, \"MES\":mes, \"GHIdiario\":ghi_diario}\n",
    "                ghi_df = ghi_df.append(ghi_dict, ignore_index=True)\n",
    "        return ghi_df\n",
    "\n",
    "    ghi_mensual_loc = ghi_mensual(serie)\n",
    "    ghi_dia_loc=ghi_dia(ghi_mensual_loc)\n",
    "    datos = sorted(ghi_dia_loc[\"GHIdiario\"])\n",
    "    numdatos = range(len(datos))\n",
    "    percentil = 0.01\n",
    "    enficc = ghi_dia_loc.quantile(q=percentil, \n",
    "                                 numeric_only=True)[\"GHIdiario\"]\n",
    "    return enficc,datos,numdatos"
   ]
  },
  {
   "cell_type": "markdown",
   "metadata": {},
   "source": [
    "La tercera función es la gráfica esta tiene como parámetros el grupo de datos que se obtiene de la función ENFICC para los datos reales, satelitales y ajustados. Se obtiene con esta función la gráfica en la que se observa el comportamiento de la energía promedio mensual para las tres series de datos."
   ]
  },
  {
   "cell_type": "code",
   "execution_count": 4,
   "metadata": {},
   "outputs": [],
   "source": [
    "def grafica(enficc_real,enficc_satel,enficc_mcp):\n",
    "    pylab.xlabel(\"Datos\")\n",
    "    pylab.ylabel(\"Energía/Energia Base Ideam\")\n",
    "    pylab.plot(enficc_real[2],enficc_real[1]/(enficc_real[1])[0],label='IDEAM')\n",
    "    pylab.plot(enficc_satel[2],enficc_satel[1]/(enficc_real[1])[0],label='NREL')\n",
    "    pylab.plot(enficc_mcp[2],enficc_mcp[1]/(enficc_real[1])[0],label='NREL AJUSTADA')\n",
    "    pylab.legend(loc='upper left')\n",
    "    return "
   ]
  },
  {
   "cell_type": "markdown",
   "metadata": {},
   "source": [
    "La siguiente función es la del cálculo de los errores. A partir de las formulas del protocolo en la sección 3.1.2 [2], esta función arroja el error RMS (RMSEn), error de sesgo medio (MBE) y el P-Value del Índice de Kolmogorov-Smagorinski. A esta función le ingresan las series de datos obtenidas de la funcion ENFICC sobre energía promedio por mes para las dos series que se quieren comparar."
   ]
  },
  {
   "cell_type": "code",
   "execution_count": 5,
   "metadata": {},
   "outputs": [],
   "source": [
    "def errores(real,ajustada):\n",
    "    dfmcp=np.array(ajustada)\n",
    "    dfreal=np.array(real)\n",
    "    rmsen=(np.sqrt(((dfreal - dfmcp) ** 2).mean()))/(dfreal[-1]-dfreal[0])\n",
    "    mbe=((dfmcp-dfreal).sum()/dfmcp.sum())\n",
    "    KSI=sp.stats.ks_2samp(real,ajustada)\n",
    "    return(rmsen,mbe,KSI[1])"
   ]
  },
  {
   "cell_type": "markdown",
   "metadata": {},
   "source": [
    "A continuación se crea la última función que es la que permite unir todas las otras funciones y arrojar solo la tabla de datos y la gráfica:"
   ]
  },
  {
   "cell_type": "code",
   "execution_count": 6,
   "metadata": {},
   "outputs": [],
   "source": [
    "def ejercicio(ciudad,mes,agno):\n",
    "\n",
    "    base_dir = os.path.join( '.','data')\n",
    "    output_dir = os.path.join( '.','output')\n",
    "    fuente1 = 'IDEAM'\n",
    "    fuente2= 'NREL'\n",
    "    serie_csv1 = os.path.join(base_dir,ciudad,fuente1+'.csv')\n",
    "    serie_csv2 = os.path.join(base_dir,ciudad,fuente2+'.csv')\n",
    "    serie_real = pd.read_csv(serie_csv1, sep = ';',\n",
    "                    encoding='latin-1')\n",
    "    serie_satel = pd.read_csv(serie_csv2, sep = ';',\n",
    "                    encoding='latin-1')\n",
    "\n",
    "    ajuste= ajuste_mcp(serie_real,serie_satel,mes,agno)\n",
    "\n",
    "    enficc_real=ENFICC(serie_real,serie_real)\n",
    "    enficc_satel=ENFICC(serie_satel,serie_real)\n",
    "    enficc_mcp=ENFICC(ajuste,serie_real)\n",
    "\n",
    "    grafica(enficc_real,enficc_satel,enficc_mcp)\n",
    "\n",
    "    error1=errores(enficc_real[1],enficc_mcp[1])\n",
    "    error2=errores(enficc_real[1],enficc_satel[1])\n",
    "\n",
    "\n",
    "    tabla=pd.DataFrame([['ENFICC real',enficc_real[0]],['ENFICC satelital',enficc_satel[0]],['ENFICC satelital ajustada',enficc_mcp[0]],\n",
    "                        ['IDEAM-NREL AJUSTADA [RMSEn]',error1[0]],['IDEAM-NREL AJUSTADA [MBE]',error1[1]],\n",
    "                        ['IDEAM-NREL AJUSTADA [P KSI]',error1[2]],['IDEAM-NREL [RMSEn]',error2[0]],['IDEAM-NREL [MBE]',\n",
    "                        error2[1]],['IDEAM-NREL [P KSI]',error2[2]]])\n",
    "\n",
    "    return(tabla.head(9))"
   ]
  },
  {
   "cell_type": "markdown",
   "metadata": {},
   "source": [
    "A manera de ejemplo de aplicación de todas las funciones ya explicadas se generan los datos para la ciudad de Medellín tomando los meses desde enero hasta junio del año 2011 como el rango para el ajuste:"
   ]
  },
  {
   "cell_type": "code",
   "execution_count": 7,
   "metadata": {},
   "outputs": [
    {
     "name": "stdout",
     "output_type": "stream",
     "text": [
      "[2006, 2007, 2008, 2009, 2010, 2011, 2012, 2013, 2014, 2015]\n",
      "[2006, 2007, 2008, 2009, 2010, 2011, 2012, 2013, 2014, 2015]\n",
      "[2006, 2007, 2008, 2009, 2010, 2011, 2012, 2013, 2014, 2015]\n"
     ]
    },
    {
     "data": {
      "text/html": [
       "<div>\n",
       "<style>\n",
       "    .dataframe thead tr:only-child th {\n",
       "        text-align: right;\n",
       "    }\n",
       "\n",
       "    .dataframe thead th {\n",
       "        text-align: left;\n",
       "    }\n",
       "\n",
       "    .dataframe tbody tr th {\n",
       "        vertical-align: top;\n",
       "    }\n",
       "</style>\n",
       "<table border=\"1\" class=\"dataframe\">\n",
       "  <thead>\n",
       "    <tr style=\"text-align: right;\">\n",
       "      <th></th>\n",
       "      <th>0</th>\n",
       "      <th>1</th>\n",
       "    </tr>\n",
       "  </thead>\n",
       "  <tbody>\n",
       "    <tr>\n",
       "      <th>0</th>\n",
       "      <td>ENFICC real</td>\n",
       "      <td>3.535194e+00</td>\n",
       "    </tr>\n",
       "    <tr>\n",
       "      <th>1</th>\n",
       "      <td>ENFICC satelital</td>\n",
       "      <td>4.311348e+00</td>\n",
       "    </tr>\n",
       "    <tr>\n",
       "      <th>2</th>\n",
       "      <td>ENFICC satelital ajustada</td>\n",
       "      <td>3.462820e+00</td>\n",
       "    </tr>\n",
       "    <tr>\n",
       "      <th>3</th>\n",
       "      <td>IDEAM-NREL AJUSTADA [RMSEn]</td>\n",
       "      <td>8.518090e-02</td>\n",
       "    </tr>\n",
       "    <tr>\n",
       "      <th>4</th>\n",
       "      <td>IDEAM-NREL AJUSTADA [MBE]</td>\n",
       "      <td>-3.967616e-02</td>\n",
       "    </tr>\n",
       "    <tr>\n",
       "      <th>5</th>\n",
       "      <td>IDEAM-NREL AJUSTADA [P KSI]</td>\n",
       "      <td>1.391738e-02</td>\n",
       "    </tr>\n",
       "    <tr>\n",
       "      <th>6</th>\n",
       "      <td>IDEAM-NREL [RMSEn]</td>\n",
       "      <td>3.365049e-01</td>\n",
       "    </tr>\n",
       "    <tr>\n",
       "      <th>7</th>\n",
       "      <td>IDEAM-NREL [MBE]</td>\n",
       "      <td>1.647929e-01</td>\n",
       "    </tr>\n",
       "    <tr>\n",
       "      <th>8</th>\n",
       "      <td>IDEAM-NREL [P KSI]</td>\n",
       "      <td>3.144217e-26</td>\n",
       "    </tr>\n",
       "  </tbody>\n",
       "</table>\n",
       "</div>"
      ],
      "text/plain": [
       "                             0             1\n",
       "0                  ENFICC real  3.535194e+00\n",
       "1             ENFICC satelital  4.311348e+00\n",
       "2    ENFICC satelital ajustada  3.462820e+00\n",
       "3  IDEAM-NREL AJUSTADA [RMSEn]  8.518090e-02\n",
       "4    IDEAM-NREL AJUSTADA [MBE] -3.967616e-02\n",
       "5  IDEAM-NREL AJUSTADA [P KSI]  1.391738e-02\n",
       "6           IDEAM-NREL [RMSEn]  3.365049e-01\n",
       "7             IDEAM-NREL [MBE]  1.647929e-01\n",
       "8           IDEAM-NREL [P KSI]  3.144217e-26"
      ]
     },
     "execution_count": 7,
     "metadata": {},
     "output_type": "execute_result"
    },
    {
     "data": {
      "image/png": "[encoded data removed]",
      "text/plain": [
       "<matplotlib.figure.Figure at 0x7f44a88eb1d0>"
      ]
     },
     "metadata": {},
     "output_type": "display_data"
    }
   ],
   "source": [
    "ejercicio('Medellin',[1,6],[2011,2011])"
   ]
  },
  {
   "cell_type": "markdown",
   "metadata": {},
   "source": [
    "En el ejemplo anterior se puede observar todos los resultados necesarios: los valores de ENFICC para las tres series (real, satelital y ajustada), los errores entre la real y la ajustada, los errores entre la real y la satelital y por último la gráfica de los datos de promedio mensual de energía por hora para las tres series.\n",
    "\n",
    "#### Nota: Como se ilustro en este ejemplo se realizó el procedimiento para todos los casos que se observaran en la parte 2 del informe. La informacion se organizo en tablas diferentes a manera de exponer mejor los resultados."
   ]
  },
  {
   "cell_type": "markdown",
   "metadata": {},
   "source": [
    "### Parte 2 Análisis bajo diferentes situaciones"
   ]
  },
  {
   "cell_type": "markdown",
   "metadata": {},
   "source": [
    "Una de las variables más importante del ajuste MCP es el tamaño del rango de datos medidos en tierra. A continuación se realiza una comparación para tres rangos distintos de datos medidos entre el 2008 y  el 2009 para las ciudades de Medellín y Valledupar. El primer rango es de 6 meses (Enero del 2008 a Junio del 2008), el segundo es de un año (todo el año 2008) y el último de dos años (desde Enero del 2008 hasta Diciembre del 2009). Empezando con la ciudad de Medellín se tiene que:"
   ]
  },
  {
   "cell_type": "markdown",
   "metadata": {},
   "source": [
    "\n",
    "###### Tabla 1 Resultados Medellín entre el 2008 y 2009\n",
    "|        |  Real  | Satelital |   6 meses |  1 año | 2 años |\n",
    "|:------:|:------:|:---------:|:---------:|:------:|:------:|\n",
    "| ENFICC | 3.5352 |   4.3113  |   3.7457  | 3.7215 | 3.6512 |\n",
    "|  RMSEn |    NA  |   0.3365  |   0.0893  | 0.0806 | 0.0587 |\n",
    "|   MBE  |   NA   |   0.1648  |   0.0420  | 0.0360 | 0.0164 |\n",
    "|  P KSI |   NA   |   3.E-26  |   0.0023  | 0.0091 | 0.1653 |\n",
    "\n",
    "Respecto a la tabla 1 se observan errores significativamente más pequeños y valores de P mucho más grandes a medida que se toman rangos más extensos. La disminución mas drástica en los errores es entre la satelital original y cualquiera de las ajustadas lo que implica que el método si es efectivo, incluso en rangos bajos como de 6 meses. También a partir de la tabla se observa que los datos satelitales sobreestiman la ENFICC y que los ajustes aunque disminuyen esa sobre estimación siempre la mantienen. En las gráficas a continuación se puede observar lo mencionado.\n",
    "\n",
    "<img src=\"Grafica/Medellin(6).png\">\n",
    "##### Grafica 1 Datos de promedio mensual de energía por hora normalizado para Medellin con rango de 6 meses\n",
    "\n",
    "<img src=\"Grafica/Medellin(1).png\">\n",
    "##### Grafica 2 Datos de promedio mensual de energía por hora normalizado para Medellin con rango de 1 año\n",
    "\n",
    "<img src=\"Grafica/Medellin(2).png\">\n",
    "##### Grafica 3 Datos de promedio mensual de energía por hora normalizado para Medellin con rango de 2 años\n",
    "\n",
    "Continuando con la ciudad de Valledupar se obtiene:\n",
    "\n",
    "###### Tabla 2 Resultados Valledupar entre el 2008 y 2009\n",
    "|        |  Real  | Satelital |   6 meses |  1 año | 2 años |\n",
    "|:------:|:------:|:---------:|:---------:|:------:|:------:|\n",
    "| ENFICC | 4.5690 |   5.0667  |   4.6032  | 4.6593 | 4.6462 |\n",
    "|  RMSEn |    NA  |   0.2695  |   0.0734  | 0.0890 | 0.0854 |\n",
    "|   MBE  |   NA   |   0.1032  |   0.0147  | 0.0264 | 0.0243 |\n",
    "|  P KSI |   NA   |   8.E-20  |   0.0889  | 0.0091 | 0.0139 |\n",
    "\n",
    "En este caso el resultado no fue el mismo que con Medellin, los errores más cercanos se obtienen con el rango de datos de 6 meses que es el más corto. Sin embargo los errores de las series ajustadas todos son mucho menores al de la satelital sin ningún ajuste lo cual sigue indicando la eficacia del método. En este caso se puede concluir que el tiempo en los rangos escogidos no fueron del todo normales y generaron estos comportamientos en los errores, ya sea que los 6 meses fueron muy buenos en términos del comportamiento normal de la energía en la zona o los rangos del año y dos años tuvieron meses con anomalías que pudieron generar estas diferencias. Un comportamiento que se sigue observando en Valledupar es que el dato de la enficc sigue estando sobreestimado. En las siguientes graficas se observan los comportamientos de los datos de energía según cada rango de fecha en el ajuste.\n",
    "\n",
    "<img src=\"Grafica/Valledupar(6).png\">\n",
    "##### Grafica 4 Datos de promedio mensual de energía por hora normalizado para Valledupar con rango de 6 meses\n",
    "\n",
    "<img src=\"Grafica/Valledupar(1).png\">\n",
    "##### Grafica 5 Datos de promedio mensual de energía por hora normalizado para Valledupar con rango de 1 año\n",
    "\n",
    "<img src=\"Grafica/Valledupar(2).png\">\n",
    "##### Grafica 6 Datos de promedio mensual de energía por hora normalizado para Valledupar con rango de 2 años"
   ]
  },
  {
   "cell_type": "markdown",
   "metadata": {},
   "source": [
    "Otro factor que es importante revisar son las condiciones climáticas y como la toma de datos en un rango especifico de tiempo en el cual el país pudo estar afrontando una temporada invernal muy fuerte o una época de sequía, puede afectar el valor de la ENFICC. Para observar este comportamiento, a partir de los datos que se tienen sobre la ciudad de Cali, primero se tomara un rango de un año en el cual sobresale la temporada invernal como lo es el año 2010 y luego un año en el cual se observa una alta sequia como el 2015. [1] El rango se toma de un año debido a que según la regulación este es el periodo mínimo para el cálculo de la ENFICC. [2]\n",
    "\n",
    "A continuación se observa el porcentaje de precipitaciones para el año 2010 en la ciudad de Cali:\n",
    "\n",
    "<img src=\"Grafica/nina.png\">\n",
    "##### Grafica 7 Precipitaciones en la ciudad de Cali año 2010 [1]\n",
    "\n",
    "Se puede observar sobre todo hacia el último semestre del año que los valores de precipitaciones se encuentran muy por encima de los normales.\n",
    "\n",
    "Aplicando la metodología con este año se obtiene:\n",
    "\n",
    "##### Tabla 3 Resultados Cali con datos de ajuste del año 2010.\n",
    "|                             |          |\n",
    "|-----------------------------|----------|\n",
    "| ENFICC real                 | 3.3307   |\n",
    "| ENFICC satelital            | 4.3492   |\n",
    "| ENFICC satelital ajustada   | 3.6427   |\n",
    "| IDEAM-NREL AJUSTADA [RMSEn] | 0.0402   |\n",
    "| IDEAM-NREL AJUSTADA [MBE]   | 0.0026   |\n",
    "| IDEAM-NREL AJUSTADA [P KSI] | 0.6067   |\n",
    "| IDEAM-NREL [RMSEn]          | 0.3245   |\n",
    "| IDEAM-NREL [MBE]            | 0.1618   |\n",
    "| IDEAM-NREL [P KSI]          | 1.81e-28 |\n",
    "\n",
    "Y la gráfica es:\n",
    "\n",
    "<img src=\"Grafica/Cali2010.png\">\n",
    "##### Grafica 8 Datos de promedio mensual de energía por hora normalizado para Cali con ajuste de datos del año 2010\n",
    "\n",
    "La siguiente grafica ilustra el porcentaje de precipitaciones para el año 2015 en la ciudad de Cali:\n",
    "\n",
    "<img src=\"Grafica/nino.png\">\n",
    "##### Grafica 9 Precipitaciones en la ciudad de Cali año 2015 [1]\n",
    "\n",
    "En la gráfica 9 se observa que durante el año predominaron meses con valores por debajo del 100% es decir por debajo de las precipitaciones normales.\n",
    "\n",
    "Aplicando la metodología con este año se obtiene:\n",
    "\n",
    "##### Tabla 4 Resultados Cali con datos de ajuste del año 2015.\n",
    "|                             |          |\n",
    "|-----------------------------|----------|\n",
    "| ENFICC real                 | 3.3308   |\n",
    "| ENFICC satelital            | 4.3492   |\n",
    "| ENFICC satelital ajustada   | 3.8911   |\n",
    "| IDEAM-NREL AJUSTADA [RMSEn] | 0.1243   |\n",
    "| IDEAM-NREL AJUSTADA [MBE]   | 0.0666   |\n",
    "| IDEAM-NREL AJUSTADA [P KSI] | 1.90e-06 |\n",
    "| IDEAM-NREL [RMSEn]          | 0.3245   |\n",
    "| IDEAM-NREL [MBE]            | 0.1618   |\n",
    "| IDEAM-NREL [P KSI]          | 1.82e-28 |\n",
    "\n",
    "Y la gráfica con los datos para las tres series es:\n",
    "\n",
    "<img src=\"Grafica/Cali2015.png\">\n",
    "##### Grafica 10 Datos de promedio mensual de energía por hora normalizado para Cali con ajuste de datos del año 2015\n",
    "\n",
    "A partir de la tabla 3 y el grafico 8 no se observa una afectación significativa en términos de errores sobre la serie ajustada el hecho de que ese año se hubieran presentado grandes valores de precipitaciones. La serie ajustada se acerca con errores muy por debajo de la serie satelital a la real y los valores de P son mucho mayor para la ajustada que para la satelital original. Una forma de poder explicar esto es que debido a como ya se mencionó anteriormente las series ajustadas siguen sobreestimando la energía el fenómeno de la niña no fue lo suficientemente fuerte como para llevar a ajustar la serie a valores de energía por debajo de la real si no que ayudo a acercar más los datos ajustados a los reales. \n",
    "\n",
    "Caso distinto es lo que ocurre con los datos de la tabla 4 y el grafico 10 en los cuales si se observan errores muy grandes tanto en la serie ajustada como en la satelital respecto a la real, tanto el RMSEn como el MBE presentan los mismos ordenes de magnitud. Esto lleva a concluir que años muy secos donde la energía puede llegar a ser mayor generan que se mantenga la sobreestimación de energía que las series satelitales poseen pero mucho más fuerte que con otros rangos de tiempo."
   ]
  },
  {
   "cell_type": "markdown",
   "metadata": {},
   "source": [
    "### Conclusiones\n",
    "\n",
    "1. Se logró implementar en el lenguaje de Python funciones para calcular el valor de la ENFICC y a su vez generar otra información como lo son los errores que permiten analizar la eficacia del método MCP\n",
    "\n",
    "2. Se pudo comprobar que el método MCP si funciona pero que su efectividad se puede ver afectada por múltiples factores.\n",
    "\n",
    "3. La enficc de los datos satelitales al igual que las de los datos satelitales ajustados por el método de MCP, generan una sobreestimación de la ENFICC real, esta sobre estimación se disminuye drásticamente con las series ajustadas pero no deja de estar presente en ninguno de los casos estudiados. \n",
    "\n",
    "4. El tamaño del periodo con el que se realiza el ajuste se considera relevante pero más importante que el rango, lo que afecta en mayor medida es la normalidad de los datos dentro de ese rango. Si el rango escogido esta en fenómenos del niño muy fuertes puede llevar a generar una sobreestimación en la ENFICC mucho mayor."
   ]
  },
  {
   "cell_type": "markdown",
   "metadata": {},
   "source": [
    "### Referencias\n",
    "\n",
    "[1] \tIDEAM, «PRECIPITACIÓN MENSUAL POR AÑO,» 2018. [En línea]. Disponible en: http://www.ideam.gov.co/web/tiempo-y-clima/precipitacion-mensual-por-ano. [Último acceso: 15 02 2018].\n",
    "\n",
    "[2] \tUniversidad de los Andes , «Protocolo: verificación y medición de series históricas para cálculo de ENFICC en plantas solares fotovoltaicas,» 2018.\n"
   ]
  }
 ],
 "metadata": {
  "kernelspec": {
   "display_name": "Python 3.6",
   "language": "python",
   "name": "python36"
  },
  "language_info": {
   "codemirror_mode": {
    "name": "ipython",
    "version": 3
   },
   "file_extension": ".py",
   "mimetype": "text/x-python",
   "name": "python",
   "nbconvert_exporter": "python",
   "pygments_lexer": "ipython3",
   "version": "3.6.3"
  }
 },
 "nbformat": 4,
 "nbformat_minor": 2
}
