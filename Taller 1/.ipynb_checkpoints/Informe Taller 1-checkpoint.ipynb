{
 "cells": [
  {
   "cell_type": "markdown",
   "metadata": {
    "collapsed": true
   },
   "source": [
    "## Informe Taller #1 \n",
    "## Análisis de la metodología para la verificación y construcción de series históricas para el cálculo de la ENFICC en plantas solares fotovoltaicas.\n",
    "\n",
    "### Daniel Felipe Jaramillo Arenas, 201414139"
   ]
  },
  {
   "cell_type": "markdown",
   "metadata": {},
   "source": [
    "A continuacion se expone en una primera parte las funciones generadas para realizar los calculos de la ENFICC y la generacion de informacion (graficas y errores) que permite evaluar la metodologia en diferentes localidadades y utilizando mediciones en tierra de diferentes epocas. En la segunda parte del informe se utilizan las funciones para realizar un analisis bajo unos casos especificos de localidades y tiempos."
   ]
  },
  {
   "cell_type": "markdown",
   "metadata": {},
   "source": [
    "### Parte 1: Funciones"
   ]
  },
  {
   "cell_type": "code",
   "execution_count": 1,
   "metadata": {},
   "outputs": [
    {
     "name": "stdout",
     "output_type": "stream",
     "text": [
      "Populating the interactive namespace from numpy and matplotlib\n"
     ]
    }
   ],
   "source": [
    "import os\n",
    "import pandas as pd\n",
    "import scipy as sp\n",
    "from scipy import stats\n",
    "%pylab inline"
   ]
  },
  {
   "cell_type": "markdown",
   "metadata": {},
   "source": [
    "La primera funcion que se encuentra a continuacion y que lleva el nombre de ajuste_mcp se encarga de a partir de una serie de datos reales y una serie satelital ademas de el numero de mes y del año de la serie real a la que se quiere ajustar la satelital, devuelve una serie de datos con la misma estructura que las que ingresan con los datos satelitales ajustados. La funcion tiene como ultimo parametro un valor de falso y verdadero que simplemente lo que hace es permitir tomar los meses acumulados desde enero o simplemente un solo mes en el año especificado."
   ]
  },
  {
   "cell_type": "code",
   "execution_count": 2,
   "metadata": {},
   "outputs": [],
   "source": [
    "def ajuste_mcp(serie_real,serie_std,mes,agno,mesAcumulado):\n",
    "    if mesAcumulado == True:\n",
    "        m1=serie_real[\"IDEAM\"].loc[(serie_real[\"MES\"]<=mes)&(serie_real[\"AÑO\"]==agno)].mean()\n",
    "        m2=serie_std[\"NREL\"].loc[(serie_std[\"MES\"]<=mes)&(serie_std[\"AÑO\"]==agno)].mean()\n",
    "        d1=serie_real[\"IDEAM\"].loc[(serie_real[\"MES\"]<=mes)&(serie_real[\"AÑO\"]==agno)].std(ddof=0)\n",
    "        d2=serie_std[\"NREL\"].loc[(serie_std[\"MES\"]<=mes)&(serie_std[\"AÑO\"]==agno)].std(ddof=0)\n",
    "        GHImcp= pd.DataFrame(((m1-(d1/d2)*m2)+(d1/d2)*serie_std[\"NREL\"]))\n",
    "        GHImcp[GHImcp<0]=0\n",
    "        serie_ajustada=serie_std.copy()\n",
    "        del serie_ajustada['NREL']\n",
    "        serie_ajustada['GHI']=GHImcp\n",
    "    else:\n",
    "        m1=serie_real[\"IDEAM\"].loc[(serie_real[\"MES\"]==mes)&(serie_real[\"AÑO\"]==agno)].mean()\n",
    "        m2=serie_std[\"NREL\"].loc[(serie_std[\"MES\"]==mes)&(serie_std[\"AÑO\"]==agno)].mean()\n",
    "        d1=serie_real[\"IDEAM\"].loc[(serie_real[\"MES\"]==mes)&(serie_real[\"AÑO\"]==agno)].std(ddof=0)\n",
    "        d2=serie_std[\"NREL\"].loc[(serie_std[\"MES\"]==mes)&(serie_std[\"AÑO\"]==agno)].std(ddof=0)\n",
    "        GHImcp= pd.DataFrame(((m1-(d1/d2)*m2)+(d1/d2)*serie_std[\"NREL\"]))\n",
    "        GHImcp[GHImcp<0]=0\n",
    "        serie_ajustada=serie_std.copy()\n",
    "        del serie_ajustada['NREL']\n",
    "        serie_ajustada['GHI']=GHImcp\n",
    "    return (serie_ajustada)"
   ]
  },
  {
   "cell_type": "markdown",
   "metadata": {},
   "source": [
    "La segunda funcion es la funcion ENFICC a esta le ingresan los datos a la cual se le quiere calcular la ENFICC y ademas los datos reales de la misma localizacion, estos segundos datos solo se ingresan para asegurar que que la ENFICC se calcule sobre el rango de años sobre los cuales se tenga informacion real y que al final los datos se puedan comparar. Esta funcion imprime el valor de la ENFICC de la serie y retorna un grupo de datos en el que estan:\n",
    "\n",
    "0. El valor de la enficc. [0]\n",
    "1. Serie de datos organizados de energia promedio por mes. [1]\n",
    "2. El numero de datos de la serie de energia promedio por mes. [2]"
   ]
  },
  {
   "cell_type": "code",
   "execution_count": 3,
   "metadata": {},
   "outputs": [],
   "source": [
    "def ENFICC(serie,serie_real):\n",
    "    \n",
    "    def ghi_mensual(serie_horaria):\n",
    "        agnos = sorted(serie_real['AÑO'].unique())\n",
    "        ghi_df = pd.DataFrame(columns=[\"AÑO\", \"MES\", \"DIAS\", \"GHImes\"])\n",
    "        for agno in agnos:\n",
    "            for mes in range(1,13):\n",
    "                nombre_energia = list(serie_horaria)[-1]\n",
    "                dias = sorted(serie_horaria[(serie_horaria['AÑO'] == agno) &\n",
    "                            (serie_horaria['MES'] == mes)][\"DIA\"].unique())\n",
    "                ghi_mes = serie_horaria.loc[((serie_horaria[\"AÑO\"] == agno)\n",
    "                                & (serie_horaria[\"MES\"] == mes)),\n",
    "                                            nombre_energia].sum()/1000\n",
    "                ghi_dict = {\"AÑO\":agno, \"MES\":mes, \"DIAS\":dias[-1],\n",
    "                            \"GHImes\":ghi_mes}\n",
    "                ghi_df = ghi_df.append(ghi_dict, ignore_index=True)\n",
    "        return ghi_df\n",
    "    \n",
    "    def ghi_dia(serie_ghi_mensual):\n",
    "        agnos = sorted(serie_ghi_mensual['AÑO'].unique())\n",
    "        ghi_df = pd.DataFrame(columns=[\"AÑO\", \"MES\", \"GHIdiario\"])\n",
    "        for agno in agnos:\n",
    "            for mes in range(1,13):\n",
    "                dias = serie_ghi_mensual.loc[((serie_ghi_mensual[\"AÑO\"] == agno)\n",
    "                                & (serie_ghi_mensual[\"MES\"] == mes))\n",
    "                                             ,\"DIAS\"].item()\n",
    "                ghi_diario = serie_ghi_mensual.loc[(\n",
    "                    (serie_ghi_mensual[\"AÑO\"] == agno)\n",
    "                                & (serie_ghi_mensual[\"MES\"] == mes)),\n",
    "                    \"GHImes\"].item()/dias\n",
    "                ghi_dict = {\"AÑO\":agno, \"MES\":mes, \"GHIdiario\":ghi_diario}\n",
    "                ghi_df = ghi_df.append(ghi_dict, ignore_index=True)\n",
    "        return ghi_df\n",
    "\n",
    "    ghi_mensual_loc = ghi_mensual(serie)\n",
    "    ghi_dia_loc=ghi_dia(ghi_mensual_loc)\n",
    "    datos = sorted(ghi_dia_loc[\"GHIdiario\"])\n",
    "    numdatos = range(len(datos))\n",
    "    percentil = 0.01\n",
    "    enficc = ghi_dia_loc.quantile(q=percentil, \n",
    "                                 numeric_only=True)[\"GHIdiario\"]\n",
    "    print('La ENFICC 99% es: ',enficc)\n",
    "    return enficc,datos,numdatos"
   ]
  },
  {
   "cell_type": "markdown",
   "metadata": {},
   "source": [
    "La tercera funcion es la grafica esta tiene como parametros el grupo de datos que se obtiene de la funcion ENFICC para los datos reales, satelitales y ajustados. Se obtiene con esta funcion la grafica en la que se observa el comportamiento de la energia promedio mensual para las tres series de datos."
   ]
  },
  {
   "cell_type": "code",
   "execution_count": 4,
   "metadata": {},
   "outputs": [],
   "source": [
    "def grafica(enficc_real,enficc_satel,enficc_mcp):\n",
    "    pylab.xlabel(\"Datos\")\n",
    "    pylab.ylabel(\"Energía/Energia Base Ideam\")\n",
    "    pylab.plot(enficc_real[2],enficc_real[1]/(enficc_real[1])[0],label='IDEAM')\n",
    "    pylab.plot(enficc_satel[2],enficc_satel[1]/(enficc_real[1])[0],label='NREL')\n",
    "    pylab.plot(enficc_mcp[2],enficc_mcp[1]/(enficc_real[1])[0],label='NREL AJUSTADA')\n",
    "    pylab.legend(loc='upper left')\n",
    "    return "
   ]
  },
  {
   "cell_type": "markdown",
   "metadata": {},
   "source": [
    "La ultima de las funciones es la del calculo de los errores. A partir de las formulas del protocolo en la seccion 3.1.2, esta funcion arroja el error RMS (RMSEn), error de sesgo medio (MBE) y el P-Value del Indice de Kolmogorov-Smagorinski. A esta funcion le ingresan las serie de datos obtenida de ENFICC de energia promedio por mes para las dos series que se quieren comparar."
   ]
  },
  {
   "cell_type": "code",
   "execution_count": 5,
   "metadata": {},
   "outputs": [],
   "source": [
    "def errores(real,ajustada):\n",
    "    dfmcp=pd.DataFrame(ajustada,columns=['datos'])\n",
    "    dfreal=pd.DataFrame(real,columns=['datos'])\n",
    "    rmsen=(np.sqrt(((dfreal - dfmcp) ** 2).mean()))/(dfreal.iloc[-1]-dfreal.iloc[0])\n",
    "    mbe=(dfmcp-dfreal).sum()/dfmcp.sum()\n",
    "    KSI=sp.stats.ks_2samp(real,ajustada)\n",
    "    print('El RMSEn es: ',rmsen)\n",
    "    print('El MBE es: ',mbe)\n",
    "    print('El p de KSI es: ',KSI[1])\n",
    "    return"
   ]
  },
  {
   "cell_type": "markdown",
   "metadata": {},
   "source": [
    "A continuacion se realiza un ejemplo de la aplicacion de toda las funciones ya explicadas con la ciudad de Medellin tomando los meses desde enero hasta junio del año 2011 como el rango para el ajuste:"
   ]
  },
  {
   "cell_type": "code",
   "execution_count": 6,
   "metadata": {},
   "outputs": [
    {
     "name": "stdout",
     "output_type": "stream",
     "text": [
      "La ENFICC 99% es:  3.53519358791\n",
      "La ENFICC 99% es:  4.31134824731\n",
      "La ENFICC 99% es:  3.46281973335\n",
      "El RMSEn es:  datos    0.085181\n",
      "dtype: float64\n",
      "El MBE es:  datos   -0.039676\n",
      "dtype: float64\n",
      "El p de KSI es:  0.0139173848978\n",
      "El RMSEn es:  datos    0.336505\n",
      "dtype: float64\n",
      "El MBE es:  datos    0.164793\n",
      "dtype: float64\n",
      "El p de KSI es:  3.14421710724e-26\n"
     ]
    },
    {
     "data": {
      "image/png": "[encoded data removed]",
      "text/plain": [
       "<matplotlib.figure.Figure at 0x7fc3df16a518>"
      ]
     },
     "metadata": {},
     "output_type": "display_data"
    }
   ],
   "source": [
    "base_dir = os.path.join( '.','data')\n",
    "output_dir = os.path.join( '.','output')\n",
    "ciudad = 'Medellin'\n",
    "fuente1 = 'IDEAM'\n",
    "fuente2= 'NREL'\n",
    "serie_csv1 = os.path.join(base_dir,ciudad,fuente1+'.csv')\n",
    "serie_csv2 = os.path.join(base_dir,ciudad,fuente2+'.csv')\n",
    "serie_real = pd.read_csv(serie_csv1, sep = ';',\n",
    "                encoding='latin-1')\n",
    "serie_satel = pd.read_csv(serie_csv2, sep = ';',\n",
    "                encoding='latin-1')\n",
    "\n",
    "ajuste= ajuste_mcp(serie_real,serie_satel,6,2011,True)\n",
    "\n",
    "enficc_real=ENFICC(serie_real,serie_real)\n",
    "enficc_satel=ENFICC(serie_satel,serie_real)\n",
    "enficc_mcp=ENFICC(ajuste,serie_real)\n",
    "\n",
    "grafica(enficc_real,enficc_satel,enficc_mcp)\n",
    "\n",
    "errores(enficc_real[1],enficc_mcp[1])\n",
    "errores(enficc_real[1],enficc_satel[1])"
   ]
  },
  {
   "cell_type": "markdown",
   "metadata": {},
   "source": [
    "En el ejemplo anterior se puede observar todos los resultados necesarios, los valores de ENFICC para las tres series (real, satelital y ajustada), los errores entre la real y la ajustada, los errores entre la real y la satelital y por ultimo la grafica de los datos de promedio mensual de energia por hora para las tres series.\n",
    "\n",
    "#### Nota: Como se observa en este ejemplo se realizo el procedimiento para todos los casos que se observaran en la parte 2 del informe."
   ]
  }
 ],
 "metadata": {
  "kernelspec": {
   "display_name": "Python 3.6",
   "language": "python",
   "name": "python36"
  },
  "language_info": {
   "codemirror_mode": {
    "name": "ipython",
    "version": 3
   },
   "file_extension": ".py",
   "mimetype": "text/x-python",
   "name": "python",
   "nbconvert_exporter": "python",
   "pygments_lexer": "ipython3",
   "version": "3.6.3"
  }
 },
 "nbformat": 4,
 "nbformat_minor": 2
}
