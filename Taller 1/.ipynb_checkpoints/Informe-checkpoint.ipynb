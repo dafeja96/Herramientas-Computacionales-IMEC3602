{
 "cells": [
  {
   "cell_type": "markdown",
   "metadata": {
    "collapsed": true
   },
   "source": [
    "# Informe Taller #1 \n",
    "## Análisis de la metodología para la verificación y construcción de series históricas para el cálculo de la ENFICC en plantas solares fotovoltaicas\n",
    "### Daniel Felipe Jaramillo Arenas, 201414139\n"
   ]
  },
  {
   "cell_type": "markdown",
   "metadata": {},
   "source": [
    "A continuación se expone en una primera parte las funciones generadas para realizar los cálculos de la ENFICC y la generación de información (gráficas y errores) que permite evaluar la metodología en diferentes localidades y utilizando mediciones en tierra de diferentes épocas. En la segunda parte del informe se utilizan las funciones para realizar un análisis bajo unos casos específicos de localidades y tiempos."
   ]
  },
  {
   "cell_type": "markdown",
   "metadata": {},
   "source": [
    "### Parte 1: Funciones"
   ]
  },
  {
   "cell_type": "code",
   "execution_count": 1,
   "metadata": {},
   "outputs": [
    {
     "name": "stdout",
     "output_type": "stream",
     "text": [
      "Populating the interactive namespace from numpy and matplotlib\n"
     ]
    }
   ],
   "source": [
    "import os\n",
    "import pandas as pd\n",
    "import scipy as sp\n",
    "from scipy import stats\n",
    "%pylab inline"
   ]
  },
  {
   "cell_type": "markdown",
   "metadata": {},
   "source": [
    "La primera función que se encuentra a continuación y que lleva el nombre de ajuste_mcp se encarga de a partir de una serie de datos reales y una serie satelital además del rango de meses y el rango de años de la serie real a la que se quiere ajustar la satelital, devuelve una serie de datos con los datos satelitales ajustados. La función si se quiere realizar el ajuste en termines de meses el año se pone como unico y se ponen los meses que se quieran, si se quiere ajustar en rangos de años los meses se ponen de 1 a 12 y el rango de años que se quiera."
   ]
  },
  {
   "cell_type": "code",
   "execution_count": 22,
   "metadata": {},
   "outputs": [],
   "source": [
    "def ajuste_mcp(serie_real,serie_std,mes,agno):\n",
    "    m1=serie_real[\"IDEAM\"].loc[(serie_real[\"MES\"]<=mes[1])&(serie_real[\"AÑO\"]<=agno[1])&(serie_real[\"MES\"]>=mes[0])\n",
    "                                   &(serie_real[\"AÑO\"]>=agno[0])].mean()\n",
    "    m2=serie_std[\"NREL\"].loc[(serie_std[\"MES\"]<=mes[1])&(serie_std[\"AÑO\"]<=agno[1])&(serie_std[\"MES\"]>=mes[0])\n",
    "                                   &(serie_std[\"AÑO\"]>=agno[0])].mean()\n",
    "    d1=serie_real[\"IDEAM\"].loc[(serie_real[\"MES\"]<=mes[1])&(serie_real[\"AÑO\"]<=agno[1])&(serie_real[\"MES\"]>=mes[0])\n",
    "                                   &(serie_real[\"AÑO\"]>=agno[0])].std(ddof=0)\n",
    "    d2=serie_std[\"NREL\"].loc[(serie_std[\"MES\"]<=mes[1])&(serie_std[\"AÑO\"]<=agno[1])&(serie_std[\"MES\"]>=mes[0])\n",
    "                                   &(serie_std[\"AÑO\"]>=agno[0])].std(ddof=0)\n",
    "    GHImcp= pd.DataFrame(((m1-(d1/d2)*m2)+(d1/d2)*serie_std[\"NREL\"]))\n",
    "    GHImcp[GHImcp<0]=0\n",
    "    serie_ajustada=serie_std.copy()\n",
    "    del serie_ajustada['NREL']\n",
    "    serie_ajustada['GHI']=GHImcp\n",
    "    return (serie_ajustada)"
   ]
  },
  {
   "cell_type": "markdown",
   "metadata": {},
   "source": [
    "La segunda función es la función ENFICC a esta le ingresan los datos a la cual se le quiere calcular la ENFICC y además los datos reales de la misma localización, estos segundos datos solo se ingresan para asegurar que la ENFICC se calcule sobre el rango de años sobre los cuales se tenga información real y que al final los datos se puedan comparar. Esta función imprime el valor de la ENFICC de la serie y retorna un grupo de datos en el que están:\n",
    "    0. El valor de la enficc. [0]\n",
    "    1. Serie de datos organizados de energía promedio por mes. [1]\n",
    "    2. El número de datos de la serie de energía promedio por mes. [2]"
   ]
  },
  {
   "cell_type": "code",
   "execution_count": 24,
   "metadata": {},
   "outputs": [],
   "source": [
    "def ENFICC(serie,serie_real):\n",
    "    \n",
    "    def ghi_mensual(serie_horaria):\n",
    "        agnos = sorted(serie_real['AÑO'].unique())\n",
    "        ghi_df = pd.DataFrame(columns=[\"AÑO\", \"MES\", \"DIAS\", \"GHImes\"])\n",
    "        for agno in agnos:\n",
    "            for mes in range(1,13):\n",
    "                nombre_energia = list(serie_horaria)[-1]\n",
    "                dias = sorted(serie_horaria[(serie_horaria['AÑO'] == agno) &\n",
    "                            (serie_horaria['MES'] == mes)][\"DIA\"].unique())\n",
    "                ghi_mes = serie_horaria.loc[((serie_horaria[\"AÑO\"] == agno)\n",
    "                                & (serie_horaria[\"MES\"] == mes)),\n",
    "                                            nombre_energia].sum()/1000\n",
    "                ghi_dict = {\"AÑO\":agno, \"MES\":mes, \"DIAS\":dias[-1],\n",
    "                            \"GHImes\":ghi_mes}\n",
    "                ghi_df = ghi_df.append(ghi_dict, ignore_index=True)\n",
    "        print(agnos)\n",
    "        return ghi_df\n",
    "    \n",
    "    def ghi_dia(serie_ghi_mensual):\n",
    "        agnos = sorted(serie_ghi_mensual['AÑO'].unique())\n",
    "        ghi_df = pd.DataFrame(columns=[\"AÑO\", \"MES\", \"GHIdiario\"])\n",
    "        for agno in agnos:\n",
    "            for mes in range(1,13):\n",
    "                dias = serie_ghi_mensual.loc[((serie_ghi_mensual[\"AÑO\"] == agno)\n",
    "                                & (serie_ghi_mensual[\"MES\"] == mes))\n",
    "                                             ,\"DIAS\"].item()\n",
    "                ghi_diario = serie_ghi_mensual.loc[(\n",
    "                    (serie_ghi_mensual[\"AÑO\"] == agno)\n",
    "                                & (serie_ghi_mensual[\"MES\"] == mes)),\n",
    "                    \"GHImes\"].item()/dias\n",
    "                ghi_dict = {\"AÑO\":agno, \"MES\":mes, \"GHIdiario\":ghi_diario}\n",
    "                ghi_df = ghi_df.append(ghi_dict, ignore_index=True)\n",
    "        return ghi_df\n",
    "\n",
    "    ghi_mensual_loc = ghi_mensual(serie)\n",
    "    ghi_dia_loc=ghi_dia(ghi_mensual_loc)\n",
    "    datos = sorted(ghi_dia_loc[\"GHIdiario\"])\n",
    "    numdatos = range(len(datos))\n",
    "    percentil = 0.01\n",
    "    enficc = ghi_dia_loc.quantile(q=percentil, \n",
    "                                 numeric_only=True)[\"GHIdiario\"]\n",
    "    return enficc,datos,numdatos"
   ]
  },
  {
   "cell_type": "markdown",
   "metadata": {},
   "source": [
    "La tercera función es la gráfica esta tiene como parámetros el grupo de datos que se obtiene de la función ENFICC para los datos reales, satelitales y ajustados. Se obtiene con esta función la gráfica en la que se observa el comportamiento de la energía promedio mensual para las tres series de datos."
   ]
  },
  {
   "cell_type": "code",
   "execution_count": 4,
   "metadata": {},
   "outputs": [],
   "source": [
    "def grafica(enficc_real,enficc_satel,enficc_mcp):\n",
    "    pylab.xlabel(\"Datos\")\n",
    "    pylab.ylabel(\"Energía/Energia Base Ideam\")\n",
    "    pylab.plot(enficc_real[2],enficc_real[1]/(enficc_real[1])[0],label='IDEAM')\n",
    "    pylab.plot(enficc_satel[2],enficc_satel[1]/(enficc_real[1])[0],label='NREL')\n",
    "    pylab.plot(enficc_mcp[2],enficc_mcp[1]/(enficc_real[1])[0],label='NREL AJUSTADA')\n",
    "    pylab.legend(loc='upper left')\n",
    "    return "
   ]
  },
  {
   "cell_type": "markdown",
   "metadata": {},
   "source": [
    "La siguiente función es la del cálculo de los errores. A partir de las formulas del protocolo en la sección 3.1.2, esta función arroja el error RMS (RMSEn), error de sesgo medio (MBE) y el P-Value del Índice de Kolmogorov-Smagorinski. A esta función le ingresan las series de datos obtenidas de ENFICC de energía promedio por mes para las dos series que se quieren comparar."
   ]
  },
  {
   "cell_type": "code",
   "execution_count": 5,
   "metadata": {},
   "outputs": [],
   "source": [
    "def errores(real,ajustada):\n",
    "    dfmcp=np.array(ajustada)\n",
    "    dfreal=np.array(real)\n",
    "    rmsen=(np.sqrt(((dfreal - dfmcp) ** 2).mean()))/(dfreal[-1]-dfreal[0])\n",
    "    mbe=((dfmcp-dfreal).sum()/dfmcp.sum())\n",
    "    KSI=sp.stats.ks_2samp(real,ajustada)\n",
    "    return(rmsen,mbe,KSI[1])"
   ]
  },
  {
   "cell_type": "markdown",
   "metadata": {},
   "source": [
    "A continuación se crea la última función que es la que permite unir todas las otras funciones y arrojar solo la tabla de datos y la gráfica:"
   ]
  },
  {
   "cell_type": "code",
   "execution_count": 21,
   "metadata": {},
   "outputs": [],
   "source": [
    "def ejercicio(ciudad,mes,agno):\n",
    "\n",
    "    base_dir = os.path.join( '.','data')\n",
    "    output_dir = os.path.join( '.','output')\n",
    "    fuente1 = 'IDEAM'\n",
    "    fuente2= 'NREL'\n",
    "    serie_csv1 = os.path.join(base_dir,ciudad,fuente1+'.csv')\n",
    "    serie_csv2 = os.path.join(base_dir,ciudad,fuente2+'.csv')\n",
    "    serie_real = pd.read_csv(serie_csv1, sep = ';',\n",
    "                    encoding='latin-1')\n",
    "    serie_satel = pd.read_csv(serie_csv2, sep = ';',\n",
    "                    encoding='latin-1')\n",
    "\n",
    "    ajuste= ajuste_mcp(serie_real,serie_satel,mes,agno)\n",
    "\n",
    "    enficc_real=ENFICC(serie_real,serie_real)\n",
    "    enficc_satel=ENFICC(serie_satel,serie_real)\n",
    "    enficc_mcp=ENFICC(ajuste,serie_real)\n",
    "\n",
    "    grafica(enficc_real,enficc_satel,enficc_mcp)\n",
    "\n",
    "    error1=errores(enficc_real[1],enficc_mcp[1])\n",
    "    error2=errores(enficc_real[1],enficc_satel[1])\n",
    "\n",
    "\n",
    "    tabla=pd.DataFrame([['ENFICC real',enficc_real[0]],['ENFICC satelital',enficc_satel[0]],['ENFICC satelital ajustada',enficc_mcp[0]],\n",
    "                        ['IDEAM-NREL AJUSTADA [RMSEn]',error1[0]],['IDEAM-NREL AJUSTADA [MBE]',error1[1]],\n",
    "                        ['IDEAM-NREL AJUSTADA [P KSI]',error1[2]],['IDEAM-NREL [RMSEn]',error2[0]],['IDEAM-NREL [MBE]',\n",
    "                        error2[1]],['IDEAM-NREL [P KSI]',error2[2]]])\n",
    "\n",
    "    \n",
    "    return(tabla.head(9))"
   ]
  },
  {
   "cell_type": "markdown",
   "metadata": {},
   "source": [
    "A manera de ejemplo de aplicación de todas las funciones ya explicadas se generan los datos para la ciudad de Medellín tomando los meses desde enero hasta junio del año 2011 como el rango para el ajuste:"
   ]
  },
  {
   "cell_type": "code",
   "execution_count": 27,
   "metadata": {},
   "outputs": [
    {
     "name": "stdout",
     "output_type": "stream",
     "text": [
      "[2006, 2007, 2008, 2009, 2010, 2011, 2012, 2013, 2014, 2015]\n",
      "[2006, 2007, 2008, 2009, 2010, 2011, 2012, 2013, 2014, 2015]\n",
      "[2006, 2007, 2008, 2009, 2010, 2011, 2012, 2013, 2014, 2015]\n"
     ]
    },
    {
     "data": {
      "text/html": [
       "<div>\n",
       "<style>\n",
       "    .dataframe thead tr:only-child th {\n",
       "        text-align: right;\n",
       "    }\n",
       "\n",
       "    .dataframe thead th {\n",
       "        text-align: left;\n",
       "    }\n",
       "\n",
       "    .dataframe tbody tr th {\n",
       "        vertical-align: top;\n",
       "    }\n",
       "</style>\n",
       "<table border=\"1\" class=\"dataframe\">\n",
       "  <thead>\n",
       "    <tr style=\"text-align: right;\">\n",
       "      <th></th>\n",
       "      <th>0</th>\n",
       "      <th>1</th>\n",
       "    </tr>\n",
       "  </thead>\n",
       "  <tbody>\n",
       "    <tr>\n",
       "      <th>0</th>\n",
       "      <td>ENFICC real</td>\n",
       "      <td>3.535194e+00</td>\n",
       "    </tr>\n",
       "    <tr>\n",
       "      <th>1</th>\n",
       "      <td>ENFICC satelital</td>\n",
       "      <td>4.311348e+00</td>\n",
       "    </tr>\n",
       "    <tr>\n",
       "      <th>2</th>\n",
       "      <td>ENFICC satelital ajustada</td>\n",
       "      <td>3.614372e+00</td>\n",
       "    </tr>\n",
       "    <tr>\n",
       "      <th>3</th>\n",
       "      <td>IDEAM-NREL AJUSTADA [RMSEn]</td>\n",
       "      <td>5.358403e-02</td>\n",
       "    </tr>\n",
       "    <tr>\n",
       "      <th>4</th>\n",
       "      <td>IDEAM-NREL AJUSTADA [MBE]</td>\n",
       "      <td>9.158582e-03</td>\n",
       "    </tr>\n",
       "    <tr>\n",
       "      <th>5</th>\n",
       "      <td>IDEAM-NREL AJUSTADA [P KSI]</td>\n",
       "      <td>4.597385e-01</td>\n",
       "    </tr>\n",
       "    <tr>\n",
       "      <th>6</th>\n",
       "      <td>IDEAM-NREL [RMSEn]</td>\n",
       "      <td>3.365049e-01</td>\n",
       "    </tr>\n",
       "    <tr>\n",
       "      <th>7</th>\n",
       "      <td>IDEAM-NREL [MBE]</td>\n",
       "      <td>1.647929e-01</td>\n",
       "    </tr>\n",
       "    <tr>\n",
       "      <th>8</th>\n",
       "      <td>IDEAM-NREL [P KSI]</td>\n",
       "      <td>3.144217e-26</td>\n",
       "    </tr>\n",
       "  </tbody>\n",
       "</table>\n",
       "</div>"
      ],
      "text/plain": [
       "                             0             1\n",
       "0                  ENFICC real  3.535194e+00\n",
       "1             ENFICC satelital  4.311348e+00\n",
       "2    ENFICC satelital ajustada  3.614372e+00\n",
       "3  IDEAM-NREL AJUSTADA [RMSEn]  5.358403e-02\n",
       "4    IDEAM-NREL AJUSTADA [MBE]  9.158582e-03\n",
       "5  IDEAM-NREL AJUSTADA [P KSI]  4.597385e-01\n",
       "6           IDEAM-NREL [RMSEn]  3.365049e-01\n",
       "7             IDEAM-NREL [MBE]  1.647929e-01\n",
       "8           IDEAM-NREL [P KSI]  3.144217e-26"
      ]
     },
     "execution_count": 27,
     "metadata": {},
     "output_type": "execute_result"
    },
    {
     "data": {
      "image/png": "[encoded data removed]",
      "text/plain": [
       "<matplotlib.figure.Figure at 0x7f92c235de80>"
      ]
     },
     "metadata": {},
     "output_type": "display_data"
    }
   ],
   "source": [
    "ejercicio('Medellin',[1,6],[2006,2006])"
   ]
  },
  {
   "cell_type": "code",
   "execution_count": 29,
   "metadata": {},
   "outputs": [
    {
     "name": "stdout",
     "output_type": "stream",
     "text": [
      "[2010, 2011, 2012, 2013, 2014, 2015]\n",
      "[2010, 2011, 2012, 2013, 2014, 2015]\n",
      "[2010, 2011, 2012, 2013, 2014, 2015]\n"
     ]
    },
    {
     "data": {
      "text/html": [
       "<div>\n",
       "<style>\n",
       "    .dataframe thead tr:only-child th {\n",
       "        text-align: right;\n",
       "    }\n",
       "\n",
       "    .dataframe thead th {\n",
       "        text-align: left;\n",
       "    }\n",
       "\n",
       "    .dataframe tbody tr th {\n",
       "        vertical-align: top;\n",
       "    }\n",
       "</style>\n",
       "<table border=\"1\" class=\"dataframe\">\n",
       "  <thead>\n",
       "    <tr style=\"text-align: right;\">\n",
       "      <th></th>\n",
       "      <th>0</th>\n",
       "      <th>1</th>\n",
       "    </tr>\n",
       "  </thead>\n",
       "  <tbody>\n",
       "    <tr>\n",
       "      <th>0</th>\n",
       "      <td>ENFICC real</td>\n",
       "      <td>4.160590</td>\n",
       "    </tr>\n",
       "    <tr>\n",
       "      <th>1</th>\n",
       "      <td>ENFICC satelital</td>\n",
       "      <td>4.632954</td>\n",
       "    </tr>\n",
       "    <tr>\n",
       "      <th>2</th>\n",
       "      <td>ENFICC satelital ajustada</td>\n",
       "      <td>4.677452</td>\n",
       "    </tr>\n",
       "    <tr>\n",
       "      <th>3</th>\n",
       "      <td>IDEAM-NREL AJUSTADA [RMSEn]</td>\n",
       "      <td>0.124874</td>\n",
       "    </tr>\n",
       "    <tr>\n",
       "      <th>4</th>\n",
       "      <td>IDEAM-NREL AJUSTADA [MBE]</td>\n",
       "      <td>0.047606</td>\n",
       "    </tr>\n",
       "    <tr>\n",
       "      <th>5</th>\n",
       "      <td>IDEAM-NREL AJUSTADA [P KSI]</td>\n",
       "      <td>0.000462</td>\n",
       "    </tr>\n",
       "    <tr>\n",
       "      <th>6</th>\n",
       "      <td>IDEAM-NREL [RMSEn]</td>\n",
       "      <td>0.107759</td>\n",
       "    </tr>\n",
       "    <tr>\n",
       "      <th>7</th>\n",
       "      <td>IDEAM-NREL [MBE]</td>\n",
       "      <td>0.035764</td>\n",
       "    </tr>\n",
       "    <tr>\n",
       "      <th>8</th>\n",
       "      <td>IDEAM-NREL [P KSI]</td>\n",
       "      <td>0.005967</td>\n",
       "    </tr>\n",
       "  </tbody>\n",
       "</table>\n",
       "</div>"
      ],
      "text/plain": [
       "                             0         1\n",
       "0                  ENFICC real  4.160590\n",
       "1             ENFICC satelital  4.632954\n",
       "2    ENFICC satelital ajustada  4.677452\n",
       "3  IDEAM-NREL AJUSTADA [RMSEn]  0.124874\n",
       "4    IDEAM-NREL AJUSTADA [MBE]  0.047606\n",
       "5  IDEAM-NREL AJUSTADA [P KSI]  0.000462\n",
       "6           IDEAM-NREL [RMSEn]  0.107759\n",
       "7             IDEAM-NREL [MBE]  0.035764\n",
       "8           IDEAM-NREL [P KSI]  0.005967"
      ]
     },
     "execution_count": 29,
     "metadata": {},
     "output_type": "execute_result"
    },
    {
     "data": {
      "image/png": "[encoded data removed]",
      "text/plain": [
       "<matplotlib.figure.Figure at 0x7f92c1f48438>"
      ]
     },
     "metadata": {},
     "output_type": "display_data"
    }
   ],
   "source": [
    "ejercicio('Barranquilla',[1,6],[2011,2011])"
   ]
  },
  {
   "cell_type": "markdown",
   "metadata": {},
   "source": [
    "En el ejemplo anterior se puede observar todos los resultados necesarios, los valores de ENFICC para las tres series (real, satelital y ajustada), los errores entre la real y la ajustada, los errores entre la real y la satelital y por último la gráfica de los datos de promedio mensual de energía por hora para las tres series.\n",
    "\n",
    "#### Nota: Como se ilustro en este ejemplo se realizó el procedimiento para todos los casos que se observaran en la parte 2 del informe. "
   ]
  },
  {
   "cell_type": "markdown",
   "metadata": {},
   "source": [
    "### Parte 2 Análisis bajo diferentes situaciones"
   ]
  },
  {
   "cell_type": "markdown",
   "metadata": {},
   "source": [
    "En la primera parte el proposito "
   ]
  }
 ],
 "metadata": {
  "kernelspec": {
   "display_name": "Python 3.6",
   "language": "python",
   "name": "python36"
  },
  "language_info": {
   "codemirror_mode": {
    "name": "ipython",
    "version": 3
   },
   "file_extension": ".py",
   "mimetype": "text/x-python",
   "name": "python",
   "nbconvert_exporter": "python",
   "pygments_lexer": "ipython3",
   "version": "3.6.3"
  }
 },
 "nbformat": 4,
 "nbformat_minor": 2
}
