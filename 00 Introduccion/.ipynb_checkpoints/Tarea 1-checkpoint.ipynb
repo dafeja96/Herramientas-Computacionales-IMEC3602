{
 "cells": [
  {
   "cell_type": "code",
   "execution_count": 8,
   "metadata": {},
   "outputs": [
    {
     "data": {
      "text/plain": [
       "[<matplotlib.lines.Line2D at 0x1902c944080>]"
      ]
     },
     "execution_count": 8,
     "metadata": {},
     "output_type": "execute_result"
    }
   ],
   "source": [
    "from numpy import *\n",
    "import scipy.linalg\n",
    "import pylab as plt\n",
    "\n",
    "pi = zeros(999)\n",
    "dif = zeros(999)\n",
    "    \n",
    "for n in range(1,1000,1):\n",
    "    a=-1\n",
    "    b=1\n",
    "    p=a+(b-a)*random.rand(n,2)\n",
    "    afuera=0\n",
    "    for i in range(0,n,1):\n",
    "        x=p[i,0]\n",
    "        y=p[i,1]\n",
    "        con=(x*x)+(y*y)-1\n",
    "        if con>0:\n",
    "            afuera=afuera+1\n",
    "        else:\n",
    "            afuera=afuera\n",
    "    pi[n-1]=((n-afuera)/(n))*4\n",
    "    dif[n-1]=(pi[n-1]/4)-(math.pi/4)\n",
    "print(dif)\n",
    "\n",
    "m=range(1,1000,1)\n",
    "\n",
    "plt.plot(m,dif)"
   ]
  },
  {
   "cell_type": "code",
   "execution_count": 6,
   "metadata": {
    "scrolled": true
   },
   "outputs": [
    {
     "data": {
      "text/plain": [
       "[<matplotlib.lines.Line2D at 0x1902dee2f28>]"
      ]
     },
     "execution_count": 6,
     "metadata": {},
     "output_type": "execute_result"
    }
   ],
   "source": [
    "\n"
   ]
  },
  {
   "cell_type": "code",
   "execution_count": 9,
   "metadata": {},
   "outputs": [
    {
     "data": {
      "text/plain": [
       "[<matplotlib.lines.Line2D at 0x1902df52278>]"
      ]
     },
     "execution_count": 9,
     "metadata": {},
     "output_type": "execute_result"
    }
   ],
   "source": [
    "y=linspace(0,40,100)\n",
    "x=sin(y)\n",
    "plt.plot(y,x)"
   ]
  },
  {
   "cell_type": "code",
   "execution_count": null,
   "metadata": {
    "collapsed": true
   },
   "outputs": [],
   "source": []
  }
 ],
 "metadata": {
  "kernelspec": {
   "display_name": "Python 3",
   "language": "python",
   "name": "python3"
  },
  "language_info": {
   "codemirror_mode": {
    "name": "ipython",
    "version": 3
   },
   "file_extension": ".py",
   "mimetype": "text/x-python",
   "name": "python",
   "nbconvert_exporter": "python",
   "pygments_lexer": "ipython3",
   "version": "3.6.3"
  }
 },
 "nbformat": 4,
 "nbformat_minor": 2
}
