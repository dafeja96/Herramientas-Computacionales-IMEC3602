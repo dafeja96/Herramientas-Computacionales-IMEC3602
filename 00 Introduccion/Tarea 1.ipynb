{
 "cells": [
  {
   "cell_type": "markdown",
   "metadata": {},
   "source": [
    "# Tarea 1\n",
    "# Método estadistico para calcular el numero"
   ]
  },
  {
   "cell_type": "markdown",
   "metadata": {},
   "source": []
  },
  {
   "cell_type": "code",
   "execution_count": null,
   "metadata": {
    "collapsed": true
   },
   "outputs": [],
   "source": [
    "from numpy import *\n",
    "import scipy.linalg\n",
    "import matplotlib.pyplot as plt\n",
    "\n",
    "pi = zeros(9999)\n",
    "dif = zeros(9999)\n",
    "    \n",
    "for n in range(1,10000,1):\n",
    "    a=-1\n",
    "    b=1\n",
    "    p=a+(b-a)*random.rand(n,2)\n",
    "    afuera=0\n",
    "    for i in range(0,n,1):\n",
    "        x=p[i,0]\n",
    "        y=p[i,1]\n",
    "        con=(x*x)+(y*y)-1\n",
    "        if con>0:\n",
    "            afuera=afuera+1\n",
    "        else:\n",
    "            afuera=afuera\n",
    "    pi[n-1]=((n-afuera)/(n))*4\n",
    "    dif[n-1]=(pi[n-1]/4)-(math.pi/4)\n",
    "\n",
    "m=range(1,10000,1)\n",
    "\n",
    "plt.plot(m,dif)\n",
    "plt.title('Diferencia de probabilidades')\n",
    "plt.xlabel('Numero de puntos')\n",
    "plt.ylabel('Diferencia')\n",
    "plt.xscale('log')\n",
    "\n",
    "plt.figure()\n",
    "plt.plot(m,pi)\n",
    "plt.title('Valor de Pi')\n",
    "plt.xlabel('Numero de puntos')\n",
    "plt.ylabel('Valor de Pi')\n",
    "plt.xscale('log')"
   ]
  },
  {
   "cell_type": "code",
   "execution_count": null,
   "metadata": {
    "collapsed": true
   },
   "outputs": [],
   "source": []
  }
 ],
 "metadata": {
  "kernelspec": {
   "display_name": "Python 3",
   "language": "python",
   "name": "python3"
  },
  "language_info": {
   "codemirror_mode": {
    "name": "ipython",
    "version": 3
   },
   "file_extension": ".py",
   "mimetype": "text/x-python",
   "name": "python",
   "nbconvert_exporter": "python",
   "pygments_lexer": "ipython3",
   "version": "3.6.3"
  }
 },
 "nbformat": 4,
 "nbformat_minor": 2
}
